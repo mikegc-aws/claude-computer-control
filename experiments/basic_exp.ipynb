{
 "cells": [
  {
   "cell_type": "code",
   "execution_count": 1,
   "metadata": {},
   "outputs": [],
   "source": [
    "import boto3 \n",
    "import json\n",
    "import base64"
   ]
  },
  {
   "cell_type": "code",
   "execution_count": 2,
   "metadata": {},
   "outputs": [],
   "source": [
    "bedrock_runtime = boto3.client('bedrock-runtime', region_name='us-west-2')"
   ]
  },
  {
   "cell_type": "code",
   "execution_count": 3,
   "metadata": {},
   "outputs": [],
   "source": [
    "with open(\"screenshot.png\", 'rb') as image_file:\n",
    "    base64_screenshot = base64.b64encode(image_file.read()).decode('utf-8')"
   ]
  },
  {
   "cell_type": "code",
   "execution_count": 4,
   "metadata": {},
   "outputs": [],
   "source": [
    "messages = [\n",
    "    {\n",
    "        \"role\": \"user\", \n",
    "        \"content\": [\n",
    "            {\n",
    "                \"type\": 'text',\n",
    "                \"text\": \"Open Firefox\"\n",
    "            },\n",
    "            {\n",
    "                \"type\": \"image\", \n",
    "                \"source\": {\n",
    "                    \"type\": \"base64\",\n",
    "                    \"media_type\": \"image/png\",\n",
    "                    \"data\": base64_screenshot\n",
    "                }\n",
    "            }\n",
    "        ]\n",
    "    }\n",
    "]\n",
    "\n",
    "tools = [\n",
    "    {\n",
    "        \"type\": \"computer_20241022\",\n",
    "        \"name\": \"computer\",\n",
    "        \"display_height_px\": 800,\n",
    "        \"display_width_px\": 600,\n",
    "    },\n",
    "]\n",
    "\n",
    "body = json.dumps(\n",
    "    {\n",
    "        \"anthropic_version\": \"bedrock-2023-05-31\",\n",
    "        \"anthropic_beta\": [\"computer-use-2024-10-22\"],\n",
    "        \"system\": \"You are a helpful assistant.\",\n",
    "        \"max_tokens\": 4096,\n",
    "        \"top_k\": 250,\n",
    "        \"stop_sequences\": [],\n",
    "        \"temperature\": 1,\n",
    "        \"messages\": messages,\n",
    "        \"tools\": tools,\n",
    "    }\n",
    ")\n"
   ]
  },
  {
   "cell_type": "code",
   "execution_count": null,
   "metadata": {},
   "outputs": [],
   "source": [
    "response = bedrock_runtime.invoke_model(\n",
    "    body=body,\n",
    "    modelId='anthropic.claude-3-5-sonnet-20241022-v2:0',\n",
    ")\n",
    "\n",
    "response_body = json.loads(response.get('body').read())\n",
    "\n",
    "print(json.dumps(response_body, indent=4))"
   ]
  },
  {
   "cell_type": "code",
   "execution_count": 8,
   "metadata": {},
   "outputs": [],
   "source": [
    "messages = [\n",
    "    {\n",
    "        \"role\": \"user\", \n",
    "        \"content\": [\n",
    "            {\n",
    "                \"type\": 'text',\n",
    "                \"text\": \"Open Firefox\"\n",
    "            },\n",
    "            {\n",
    "                \"type\": \"image\", \n",
    "                \"source\": {\n",
    "                    \"type\": \"base64\",\n",
    "                    \"media_type\": \"image/png\",\n",
    "                    \"data\": base64_screenshot\n",
    "                }\n",
    "            }\n",
    "        ]\n",
    "    },\n",
    "    {\n",
    "        \"role\": \"assistant\",\n",
    "        \"content\": ...\n",
    "    }, \n",
    "    {\n",
    "        \"role\": \"user\",\n",
    "        \"content\": [\n",
    "            {\n",
    "                \"type\": \"tool_result\",\n",
    "                \"content\": [\n",
    "                    {\n",
    "                        \"type\": \"text\", \"text\": \n",
    "                        \"Moved mouse to (735,77)\"}\n",
    "                ],\n",
    "                \"tool_use_id\": \"...\",\n",
    "                \"is_error\": False\n",
    "            }\n",
    "        ]\n",
    "    }\n",
    "]\n",
    "\n",
    "tools = [\n",
    "            {\n",
    "                \"type\": \"computer_20241022\",\n",
    "                \"name\": \"computer\",\n",
    "                \"display_height_px\": 800,\n",
    "                \"display_width_px\": 600,\n",
    "            },\n",
    "        ]\n",
    "\n",
    "body = json.dumps(\n",
    "    {\n",
    "            \"anthropic_version\": \"bedrock-2023-05-31\",\n",
    "            \"anthropic_beta\": [\"computer-use-2024-10-22\"],\n",
    "            \"system\": \"You are a helpful assistant\",\n",
    "            \"max_tokens\": 4096,\n",
    "            \"top_k\": 250,\n",
    "            \"stop_sequences\": [],\n",
    "            \"temperature\": 1,\n",
    "            \"messages\": messages,\n",
    "            \"tools\": tools,\n",
    "       }\n",
    ")"
   ]
  },
  {
   "cell_type": "code",
   "execution_count": null,
   "metadata": {},
   "outputs": [],
   "source": [
    "response = bedrock_runtime.invoke_model(\n",
    "    body=body,\n",
    "    modelId='anthropic.claude-3-5-sonnet-20241022-v2:0',\n",
    ")\n",
    "\n",
    "response_body = json.loads(response.get('body').read())\n",
    "\n",
    "print(json.dumps(response_body, indent=4))"
   ]
  },
  {
   "cell_type": "code",
   "execution_count": null,
   "metadata": {},
   "outputs": [],
   "source": []
  }
 ],
 "metadata": {
  "kernelspec": {
   "display_name": "base",
   "language": "python",
   "name": "python3"
  },
  "language_info": {
   "codemirror_mode": {
    "name": "ipython",
    "version": 3
   },
   "file_extension": ".py",
   "mimetype": "text/x-python",
   "name": "python",
   "nbconvert_exporter": "python",
   "pygments_lexer": "ipython3",
   "version": "3.10.14"
  }
 },
 "nbformat": 4,
 "nbformat_minor": 2
}
